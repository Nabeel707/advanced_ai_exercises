{
  "cells": [
    {
      "cell_type": "markdown",
      "metadata": {
        "id": "voQZDM2QORkr"
      },
      "source": [
        "# Lab 2: Debug a Broken Vanilla GAN (find 12+ issues)"
      ],
      "id": "voQZDM2QORkr"
    },
    {
      "cell_type": "code",
      "metadata": {
        "id": "TQ3wrnP8ORkx"
      },
      "execution_count": 15,
      "outputs": [],
      "source": [
        "import torch, torchvision\n",
        "import torch.nn as nn\n",
        "from torch.utils.data import DataLoader\n",
        "from torchvision import transforms\n",
        "\n",
        "device=torch.device('cuda' if torch.cuda.is_available() else 'cpu')\n",
        "transform=transforms.Compose([\n",
        "    transforms.ToTensor(),\n",
        "    transforms.Normalize(0.1307,0.3081) # normalized data, so the mean = 0 and std = 1\n",
        "    ])  # BUG normalize\n",
        "\n",
        "\n",
        "loader=DataLoader(torchvision.datasets.MNIST('./data',True,download=True,transform=transform),batch_size=256,shuffle=True,num_workers=2,pin_memory=True)\n",
        "\n",
        "z_dim=100; g_lr=0.00045; d_lr=0.00045 # previously the LR were too far apart (G: 2e-2, D: 2e-5) which is unstable - fix: changed the LR to be 0.00045 which makes the learning process more stable\n",
        "\n",
        "class Disc(nn.Module):\n",
        "    def __init__(self):\n",
        "        super().__init__();\n",
        "        self.net=nn.Sequential(nn.Conv2d(1,32,4,2,1),\n",
        "                               nn.LeakyReLU(0.2,True),\n",
        "                               nn.Conv2d(32,64,4,2,1),\n",
        "                               nn.BatchNorm2d(64),\n",
        "                               nn.LeakyReLU(0.2,True),\n",
        "                               nn.Conv2d(64,1,7,1,0),\n",
        "                               ) # deleted the sigmoid activation function because it modifies the output before it's passed to the BCEwithlogits, which BCEwithlogits only deals with raw outputs\n",
        "\n",
        "    def forward(self,x):return self.net(x).view(x.size(0),1)\n",
        "\n",
        "class Gen(nn.Module):\n",
        "\n",
        "    def __init__(self):\n",
        "        super().__init__();\n",
        "        self.net=nn.Sequential(nn.ConvTranspose2d(100,128,4,1,0),\n",
        "                               nn.BatchNorm2d(128),\n",
        "                               nn.ReLU(True),\n",
        "                               nn.ConvTranspose2d(128,64,4,2,1),\n",
        "                               nn.BatchNorm2d(64),\n",
        "                               nn.ReLU(True),\n",
        "                               nn.ConvTranspose2d(64,1,4,2,1),\n",
        "                               nn.Tanh())  # BUG missing Tanh Solution: Added Tanh activation\n",
        "\n",
        "\n",
        "    def forward(self,z):\n",
        "      z=z.view(z.size(0),64,1,1);\n",
        "      return self.net(z)  # BUG reshape\n",
        "\n",
        "\n",
        "Dnet=Disc().to(device); Gnet=Gen().to(device)\n",
        "crit=nn.BCEWithLogitsLoss()\n",
        "opt_d=torch.optim.Adam(Dnet.parameters(),lr=d_lr,betas=(0.9,0.999))\n",
        "opt_g=torch.optim.Adam(Gnet.parameters(),lr=g_lr,betas=(0.9,0.999))"
      ],
      "id": "TQ3wrnP8ORkx"
    },
    {
      "cell_type": "code",
      "metadata": {
        "colab": {
          "base_uri": "https://localhost:8080/",
          "height": 245
        },
        "id": "H9b99et2ORk1",
        "outputId": "21f1c002-ac98-439c-dd45-070acb7bc41e"
      },
      "execution_count": 16,
      "outputs": [
        {
          "output_type": "stream",
          "name": "stderr",
          "text": [
            "  0%|          | 0/235 [00:00<?, ?it/s]\n"
          ]
        },
        {
          "output_type": "error",
          "ename": "NameError",
          "evalue": "name 'fake' is not defined",
          "traceback": [
            "\u001b[0;31m---------------------------------------------------------------------------\u001b[0m",
            "\u001b[0;31mNameError\u001b[0m                                 Traceback (most recent call last)",
            "\u001b[0;32m/tmp/ipython-input-2994760292.py\u001b[0m in \u001b[0;36m<cell line: 0>\u001b[0;34m()\u001b[0m\n\u001b[1;32m      4\u001b[0m     \u001b[0mb\u001b[0m\u001b[0;34m=\u001b[0m\u001b[0mreal\u001b[0m\u001b[0;34m.\u001b[0m\u001b[0msize\u001b[0m\u001b[0;34m(\u001b[0m\u001b[0;36m0\u001b[0m\u001b[0;34m)\u001b[0m\u001b[0;34m\u001b[0m\u001b[0;34m\u001b[0m\u001b[0m\n\u001b[1;32m      5\u001b[0m     \u001b[0mz\u001b[0m\u001b[0;34m=\u001b[0m\u001b[0mtorch\u001b[0m\u001b[0;34m.\u001b[0m\u001b[0mrandn\u001b[0m\u001b[0;34m(\u001b[0m\u001b[0mb\u001b[0m\u001b[0;34m,\u001b[0m\u001b[0mz_dim\u001b[0m\u001b[0;34m,\u001b[0m\u001b[0mdevice\u001b[0m\u001b[0;34m=\u001b[0m\u001b[0mdevice\u001b[0m\u001b[0;34m)\u001b[0m\u001b[0;34m;\u001b[0m\u001b[0;34m\u001b[0m\u001b[0;34m\u001b[0m\u001b[0m\n\u001b[0;32m----> 6\u001b[0;31m     \u001b[0mloss_d\u001b[0m\u001b[0;34m=\u001b[0m\u001b[0mcrit\u001b[0m\u001b[0;34m(\u001b[0m\u001b[0mDnet\u001b[0m\u001b[0;34m(\u001b[0m\u001b[0mreal\u001b[0m\u001b[0;34m)\u001b[0m\u001b[0;34m,\u001b[0m\u001b[0mtorch\u001b[0m\u001b[0;34m.\u001b[0m\u001b[0mzeros\u001b[0m\u001b[0;34m(\u001b[0m\u001b[0mb\u001b[0m\u001b[0;34m,\u001b[0m\u001b[0;36m1\u001b[0m\u001b[0;34m,\u001b[0m\u001b[0mdevice\u001b[0m\u001b[0;34m=\u001b[0m\u001b[0mdevice\u001b[0m\u001b[0;34m)\u001b[0m\u001b[0;34m)\u001b[0m\u001b[0;34m+\u001b[0m\u001b[0mcrit\u001b[0m\u001b[0;34m(\u001b[0m\u001b[0mDnet\u001b[0m\u001b[0;34m(\u001b[0m\u001b[0mfake\u001b[0m\u001b[0;34m)\u001b[0m\u001b[0;34m,\u001b[0m\u001b[0mtorch\u001b[0m\u001b[0;34m.\u001b[0m\u001b[0mones\u001b[0m\u001b[0;34m(\u001b[0m\u001b[0mb\u001b[0m\u001b[0;34m,\u001b[0m\u001b[0;36m1\u001b[0m\u001b[0;34m,\u001b[0m\u001b[0mdevice\u001b[0m\u001b[0;34m=\u001b[0m\u001b[0mdevice\u001b[0m\u001b[0;34m)\u001b[0m\u001b[0;34m)\u001b[0m  \u001b[0;31m# BUG labels\u001b[0m\u001b[0;34m\u001b[0m\u001b[0;34m\u001b[0m\u001b[0m\n\u001b[0m\u001b[1;32m      7\u001b[0m     \u001b[0mopt_d\u001b[0m\u001b[0;34m.\u001b[0m\u001b[0mzero_grad\u001b[0m\u001b[0;34m(\u001b[0m\u001b[0;34m)\u001b[0m\u001b[0;34m;\u001b[0m \u001b[0mloss_d\u001b[0m\u001b[0;34m.\u001b[0m\u001b[0mbackward\u001b[0m\u001b[0;34m(\u001b[0m\u001b[0;34m)\u001b[0m\u001b[0;34m;\u001b[0m \u001b[0mopt_d\u001b[0m\u001b[0;34m.\u001b[0m\u001b[0mstep\u001b[0m\u001b[0;34m(\u001b[0m\u001b[0;34m)\u001b[0m  \u001b[0;31m# BUG is missing the zero grad and the step was opt_g when it should be opt_d. Fix: added the zero grad function for opt_d and corrected the step from opt_g.step to opt_d.step\u001b[0m\u001b[0;34m\u001b[0m\u001b[0;34m\u001b[0m\u001b[0m\n\u001b[1;32m      8\u001b[0m     \u001b[0mz\u001b[0m\u001b[0;34m=\u001b[0m\u001b[0mtorch\u001b[0m\u001b[0;34m.\u001b[0m\u001b[0mrandn\u001b[0m\u001b[0;34m(\u001b[0m\u001b[0mb\u001b[0m\u001b[0;34m,\u001b[0m\u001b[0mz_dim\u001b[0m\u001b[0;34m,\u001b[0m\u001b[0mdevice\u001b[0m\u001b[0;34m=\u001b[0m\u001b[0mdevice\u001b[0m\u001b[0;34m)\u001b[0m\u001b[0;34m;\u001b[0m \u001b[0mfake\u001b[0m\u001b[0;34m=\u001b[0m\u001b[0mGnet\u001b[0m\u001b[0;34m(\u001b[0m\u001b[0mz\u001b[0m\u001b[0;34m.\u001b[0m\u001b[0mview\u001b[0m\u001b[0;34m(\u001b[0m\u001b[0mb\u001b[0m\u001b[0;34m,\u001b[0m\u001b[0mz_dim\u001b[0m\u001b[0;34m,\u001b[0m\u001b[0;36m1\u001b[0m\u001b[0;34m,\u001b[0m\u001b[0;36m1\u001b[0m\u001b[0;34m)\u001b[0m\u001b[0;34m)\u001b[0m\u001b[0;34m\u001b[0m\u001b[0;34m\u001b[0m\u001b[0m\n",
            "\u001b[0;31mNameError\u001b[0m: name 'fake' is not defined"
          ]
        }
      ],
      "source": [
        "from tqdm import tqdm\n",
        "for real,_ in tqdm(loader):\n",
        "    real=real.to(device);\n",
        "    b=real.size(0)\n",
        "    z=torch.randn(b,z_dim,device=device);\n",
        "    loss_d=crit(Dnet(real),torch.zeros(b,1,device=device))+crit(Dnet(fake),torch.ones(b,1,device=device))  # BUG labels\n",
        "    opt_d.zero_grad(); loss_d.backward(); opt_d.step()  # BUG is missing the zero grad and the step was opt_g when it should be opt_d. Fix: added the zero grad function for opt_d and corrected the step from opt_g.step to opt_d.step\n",
        "    z=torch.randn(b,z_dim,device=device); fake=Gnet(z.view(b,z_dim,1,1))\n",
        "    loss_g=crit(Dnet(fake),torch.ones(b,1,device=device))  # BUG non-sat problem: the loss_g took torch.zeros (it was inverted) meaning we're training the D to output 0 which is wrong. fix: i edited it from torch.zeros to torch.ones\n",
        "    opt_g.zero_grad(); loss_g.backward(); opt_g.step() # BUG missing step. problem: missing zero grad and the opt_g step fix: Added opt_g.zero_grad() and opt_g.step()\n",
        "print('Now fix all the issues.')"
      ],
      "id": "H9b99et2ORk1"
    },
    {
      "cell_type": "code",
      "source": [],
      "metadata": {
        "id": "HXsQQES1O959"
      },
      "id": "HXsQQES1O959",
      "execution_count": null,
      "outputs": []
    }
  ],
  "metadata": {
    "kernelspec": {
      "name": "python3",
      "display_name": "Python 3",
      "language": "python"
    },
    "colab": {
      "provenance": []
    }
  },
  "nbformat": 4,
  "nbformat_minor": 5
}