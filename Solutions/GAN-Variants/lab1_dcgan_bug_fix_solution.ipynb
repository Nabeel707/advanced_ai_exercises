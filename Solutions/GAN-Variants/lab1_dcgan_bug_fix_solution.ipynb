{
 "cells": [
  {
   "cell_type": "markdown",
   "id": "3a61449b",
   "metadata": {},
   "source": [
    "# DCGAN — Bug-Fixes"
   ]
  },
  {
   "cell_type": "code",
   "execution_count": null,
   "id": "575e2caa",
   "metadata": {},
   "outputs": [],
   "source": [
    "import torch, torchvision\n",
    "import torch.nn as nn\n",
    "from torch.utils.data import DataLoader\n",
    "from torchvision import transforms\n",
    "\n",
    "device = torch.device('cuda' if torch.cuda.is_available() else 'cpu')"
   ]
  },
  {
   "cell_type": "markdown",
   "id": "8d2965af",
   "metadata": {},
   "source": [
    "# ---------------------------\n",
    "# Data  (Fix: normalize to [-1,1] to match Tanh)\n",
    "# ---------------------------"
   ]
  },
  {
   "cell_type": "code",
   "execution_count": null,
   "id": "84de2c3f",
   "metadata": {},
   "outputs": [],
   "source": [
    "transform = transforms.Compose([\n",
    "    transforms.Resize(32),\n",
    "    transforms.ToTensor(),\n",
    "    transforms.Normalize([0.5, 0.5, 0.5], [0.5, 0.5, 0.5])   # FIX\n",
    "])\n",
    "ds = torchvision.datasets.CIFAR10('./data', train=True, download=True, transform=transform)\n",
    "loader = DataLoader(ds, batch_size=128, shuffle=True, num_workers=2, pin_memory=True)"
   ]
  },
  {
   "cell_type": "markdown",
   "id": "af7db9a2",
   "metadata": {},
   "source": [
    "# ---------------------------\n",
    "# Hyperparams  (Fix: sensible lrs)\n",
    "# ---------------------------"
   ]
  },
  {
   "cell_type": "code",
   "execution_count": null,
   "id": "06807642",
   "metadata": {},
   "outputs": [],
   "source": [
    "z_dim = 100\n",
    "g_lr  = 2e-4                                           # FIX\n",
    "d_lr  = 2e-4"
   ]
  },
  {
   "cell_type": "markdown",
   "id": "c6e2ccf4",
   "metadata": {},
   "source": [
    "# ---------------------------\n",
    "# Models\n",
    "# ---------------------------"
   ]
  },
  {
   "cell_type": "code",
   "execution_count": null,
   "id": "30cf60c9",
   "metadata": {},
   "outputs": [],
   "source": [
    "class D(nn.Module):\n",
    "    def __init__(self, ch=64):\n",
    "        super().__init__()\n",
    "        self.net = nn.Sequential(\n",
    "            nn.Conv2d(3, ch,   4, 2, 1),\n",
    "            nn.LeakyReLU(0.2, inplace=True),            # FIX \n",
    "            nn.Conv2d(ch, ch*2, 4, 2, 1),\n",
    "            nn.BatchNorm2d(ch*2),\n",
    "            nn.LeakyReLU(0.2, inplace=True),\n",
    "            nn.Conv2d(ch*2, ch*4, 4, 2, 1),\n",
    "            nn.BatchNorm2d(ch*4),\n",
    "            nn.LeakyReLU(0.2, inplace=True),\n",
    "            nn.Conv2d(ch*4, 1, 4, 1, 0)\n",
    "            # (no Sigmoid; we use BCEWithLogitsLoss)     # FIX \n",
    "        )\n",
    "    def forward(self, x):\n",
    "        return self.net(x).view(x.size(0))\n",
    "\n",
    "class G(nn.Module):\n",
    "    def __init__(self, z=100, ch=64):\n",
    "        super().__init__()\n",
    "        self.net = nn.Sequential(\n",
    "            nn.ConvTranspose2d(z,   ch*4, 4, 1, 0, bias=False),\n",
    "            nn.BatchNorm2d(ch*4), nn.ReLU(True),\n",
    "            nn.ConvTranspose2d(ch*4, ch*2, 4, 2, 1, bias=False),\n",
    "            nn.BatchNorm2d(ch*2), nn.ReLU(True),\n",
    "            nn.ConvTranspose2d(ch*2, ch,   4, 2, 1, bias=False),\n",
    "            nn.BatchNorm2d(ch),   nn.ReLU(True),\n",
    "            nn.ConvTranspose2d(ch,  3,     4, 2, 1, bias=False),\n",
    "            nn.Tanh()                                           # FIX \n",
    "        )\n",
    "    def forward(self, z):\n",
    "        z = z.view(z.size(0), z_dim, 1, 1)                      # FIX \n",
    "        return self.net(z)\n",
    "\n",
    "Dnet = D().to(device)\n",
    "Gnet = G(z_dim).to(device)"
   ]
  },
  {
   "cell_type": "markdown",
   "id": "721304f1",
   "metadata": {},
   "source": [
    "# ---------------------------\n",
    "# Loss & Optimizers\n",
    "# ---------------------------"
   ]
  },
  {
   "cell_type": "code",
   "execution_count": null,
   "id": "8f484697",
   "metadata": {},
   "outputs": [],
   "source": [
    "crit = nn.BCEWithLogitsLoss()\n",
    "opt_d = torch.optim.Adam(Dnet.parameters(), lr=d_lr, betas=(0.5, 0.999))   # also improves stability\n",
    "opt_g = torch.optim.Adam(Gnet.parameters(), lr=g_lr,  betas=(0.5, 0.999))"
   ]
  },
  {
   "cell_type": "markdown",
   "id": "7d0bbd56",
   "metadata": {},
   "source": [
    "# ---------------------------\n",
    "# Training (one short sanity epoch)\n",
    "# ---------------------------"
   ]
  },
  {
   "cell_type": "code",
   "execution_count": null,
   "id": "6a269514",
   "metadata": {},
   "outputs": [],
   "source": [
    "Gnet.train(); Dnet.train()\n",
    "for step, (real, _) in enumerate(loader):\n",
    "    real = real.to(device)\n",
    "    b = real.size(0)\n",
    "\n",
    "    # ---- Discriminator step ----\n",
    "    z = torch.randn(b, z_dim, device=device)\n",
    "    with torch.no_grad():                                             # OR fake = Gnet(z).detach()\n",
    "        fake = Gnet(z)                                                # FIX \n",
    "    opt_d.zero_grad()                                                 # FIX \n",
    "    loss_d = crit(Dnet(real), torch.ones (b, device=device)) + crit(Dnet(fake), torch.zeros(b, device=device))      # FIX\n",
    "             \n",
    "    loss_d.backward()\n",
    "    opt_d.step()                                                      # FIX\n",
    "\n",
    "    # ---- Generator step ----\n",
    "    z = torch.randn(b, z_dim, device=device)\n",
    "    opt_g.zero_grad()                                                 # FIX\n",
    "    fake = Gnet(z)\n",
    "    loss_g = crit(Dnet(fake), torch.ones(b, device=device))           # FIX\n",
    "    loss_g.backward()\n",
    "    opt_g.step()                                                      # FIX\n",
    "\n",
    "    if step % 200 == 0:\n",
    "        print(f\"step {step:05d}  loss_D={loss_d.item():.3f}  loss_G={loss_g.item():.3f}\")\n",
    "    if step == 600:  # small sanity run\n",
    "        break"
   ]
  }
 ],
 "metadata": {
  "kernelspec": {
   "display_name": "Python 3",
   "language": "python",
   "name": "python3"
  }
 },
 "nbformat": 4,
 "nbformat_minor": 5
}
